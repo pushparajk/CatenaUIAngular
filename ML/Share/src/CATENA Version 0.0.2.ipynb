{
 "cells": [
  {
   "cell_type": "markdown",
   "metadata": {},
   "source": [
    "This is a preliminary analyis of the dataset."
   ]
  },
  {
   "cell_type": "markdown",
   "metadata": {},
   "source": [
    "### Imports"
   ]
  },
  {
   "cell_type": "code",
   "execution_count": 1,
   "metadata": {
    "ExecuteTime": {
     "end_time": "2020-12-09T09:28:42.588061Z",
     "start_time": "2020-12-09T09:28:40.309274Z"
    }
   },
   "outputs": [],
   "source": [
    "import pandas as pd\n",
    "import numpy as np\n",
    "import joblib\n",
    "import matplotlib.pyplot as plt\n",
    "\n",
    "from dateutil.relativedelta import relativedelta\n",
    "from sklearn.model_selection import train_test_split\n",
    "from sklearn.ensemble import RandomForestClassifier\n",
    "from sklearn.metrics import accuracy_score,confusion_matrix, classification_report\n",
    "\n",
    "from pprint import pprint\n",
    "from sklearn.model_selection import GridSearchCV"
   ]
  },
  {
   "cell_type": "markdown",
   "metadata": {},
   "source": [
    "### Custom Functions"
   ]
  },
  {
   "cell_type": "code",
   "execution_count": 2,
   "metadata": {
    "ExecuteTime": {
     "end_time": "2020-12-09T09:28:42.593961Z",
     "start_time": "2020-12-09T09:28:42.588061Z"
    }
   },
   "outputs": [],
   "source": [
    "def cust_age_in_years(end):\n",
    "    r = relativedelta(pd.to_datetime('now'), end) \n",
    "    return r.years"
   ]
  },
  {
   "cell_type": "code",
   "execution_count": 3,
   "metadata": {
    "ExecuteTime": {
     "end_time": "2020-12-09T09:28:42.606997Z",
     "start_time": "2020-12-09T09:28:42.595967Z"
    }
   },
   "outputs": [],
   "source": [
    "def acc_age_in_days(end):\n",
    "    r = relativedelta(pd.to_datetime('now'), end) \n",
    "    return r.days"
   ]
  },
  {
   "cell_type": "markdown",
   "metadata": {},
   "source": [
    "### Read dataset"
   ]
  },
  {
   "cell_type": "code",
   "execution_count": 4,
   "metadata": {
    "ExecuteTime": {
     "end_time": "2020-12-09T09:28:42.654155Z",
     "start_time": "2020-12-09T09:28:42.608025Z"
    }
   },
   "outputs": [
    {
     "data": {
      "text/html": [
       "<div>\n",
       "<style scoped>\n",
       "    .dataframe tbody tr th:only-of-type {\n",
       "        vertical-align: middle;\n",
       "    }\n",
       "\n",
       "    .dataframe tbody tr th {\n",
       "        vertical-align: top;\n",
       "    }\n",
       "\n",
       "    .dataframe thead th {\n",
       "        text-align: right;\n",
       "    }\n",
       "</style>\n",
       "<table border=\"1\" class=\"dataframe\">\n",
       "  <thead>\n",
       "    <tr style=\"text-align: right;\">\n",
       "      <th></th>\n",
       "      <th>scheme</th>\n",
       "      <th>beneficiary_identifier</th>\n",
       "      <th>name_of_client</th>\n",
       "      <th>gender</th>\n",
       "      <th>dob</th>\n",
       "      <th>is_employed</th>\n",
       "      <th>income</th>\n",
       "      <th>amount</th>\n",
       "      <th>txn_date</th>\n",
       "      <th>label</th>\n",
       "    </tr>\n",
       "  </thead>\n",
       "  <tbody>\n",
       "    <tr>\n",
       "      <th>0</th>\n",
       "      <td>Cyclone Relief fund</td>\n",
       "      <td>1</td>\n",
       "      <td>lilly</td>\n",
       "      <td>FEMALE</td>\n",
       "      <td>12-Nov-90</td>\n",
       "      <td>YES</td>\n",
       "      <td>180000</td>\n",
       "      <td>1000</td>\n",
       "      <td>12-Nov-20</td>\n",
       "      <td>FRAUD</td>\n",
       "    </tr>\n",
       "    <tr>\n",
       "      <th>1</th>\n",
       "      <td>Cyclone Relief fund</td>\n",
       "      <td>1</td>\n",
       "      <td>lilly</td>\n",
       "      <td>FEMALE</td>\n",
       "      <td>12-Nov-90</td>\n",
       "      <td>YES</td>\n",
       "      <td>180000</td>\n",
       "      <td>500</td>\n",
       "      <td>25-Nov-20</td>\n",
       "      <td>FRAUD</td>\n",
       "    </tr>\n",
       "    <tr>\n",
       "      <th>2</th>\n",
       "      <td>Cyclone Relief fund</td>\n",
       "      <td>2</td>\n",
       "      <td>rose</td>\n",
       "      <td>FEMALE</td>\n",
       "      <td>13-May-79</td>\n",
       "      <td>YES</td>\n",
       "      <td>275000</td>\n",
       "      <td>6000</td>\n",
       "      <td>12-Nov-20</td>\n",
       "      <td>NORMAL</td>\n",
       "    </tr>\n",
       "    <tr>\n",
       "      <th>3</th>\n",
       "      <td>Cyclone Relief fund</td>\n",
       "      <td>3</td>\n",
       "      <td>peter</td>\n",
       "      <td>MALE</td>\n",
       "      <td>13-Feb-91</td>\n",
       "      <td>YES</td>\n",
       "      <td>300000</td>\n",
       "      <td>1000</td>\n",
       "      <td>25-Nov-20</td>\n",
       "      <td>NORMAL</td>\n",
       "    </tr>\n",
       "    <tr>\n",
       "      <th>4</th>\n",
       "      <td>EarthQuake Relief fund</td>\n",
       "      <td>4</td>\n",
       "      <td>julie</td>\n",
       "      <td>FEMALE</td>\n",
       "      <td>13-May-88</td>\n",
       "      <td>YES</td>\n",
       "      <td>600000</td>\n",
       "      <td>2000</td>\n",
       "      <td>12-May-20</td>\n",
       "      <td>COULD BE FRAUD</td>\n",
       "    </tr>\n",
       "  </tbody>\n",
       "</table>\n",
       "</div>"
      ],
      "text/plain": [
       "                   scheme  beneficiary_identifier name_of_client  gender  \\\n",
       "0     Cyclone Relief fund                       1          lilly  FEMALE   \n",
       "1     Cyclone Relief fund                       1          lilly  FEMALE   \n",
       "2     Cyclone Relief fund                       2           rose  FEMALE   \n",
       "3     Cyclone Relief fund                       3          peter    MALE   \n",
       "4  EarthQuake Relief fund                       4          julie  FEMALE   \n",
       "\n",
       "         dob is_employed  income  amount   txn_date           label  \n",
       "0  12-Nov-90         YES  180000    1000  12-Nov-20           FRAUD  \n",
       "1  12-Nov-90         YES  180000     500  25-Nov-20           FRAUD  \n",
       "2  13-May-79         YES  275000    6000  12-Nov-20          NORMAL  \n",
       "3  13-Feb-91         YES  300000    1000  25-Nov-20          NORMAL  \n",
       "4  13-May-88         YES  600000    2000  12-May-20  COULD BE FRAUD  "
      ]
     },
     "execution_count": 4,
     "metadata": {},
     "output_type": "execute_result"
    }
   ],
   "source": [
    "df_csv = pd.read_csv('DataSet.csv');\n",
    "df_csv.head()"
   ]
  },
  {
   "cell_type": "markdown",
   "metadata": {},
   "source": [
    "### Number of possible status of fraud (labels in dataset)    \n",
    "Here we are looking into the count of each label"
   ]
  },
  {
   "cell_type": "code",
   "execution_count": 5,
   "metadata": {
    "ExecuteTime": {
     "end_time": "2020-12-09T09:28:42.672178Z",
     "start_time": "2020-12-09T09:28:42.656127Z"
    }
   },
   "outputs": [
    {
     "data": {
      "text/html": [
       "<div>\n",
       "<style scoped>\n",
       "    .dataframe tbody tr th:only-of-type {\n",
       "        vertical-align: middle;\n",
       "    }\n",
       "\n",
       "    .dataframe tbody tr th {\n",
       "        vertical-align: top;\n",
       "    }\n",
       "\n",
       "    .dataframe thead th {\n",
       "        text-align: right;\n",
       "    }\n",
       "</style>\n",
       "<table border=\"1\" class=\"dataframe\">\n",
       "  <thead>\n",
       "    <tr style=\"text-align: right;\">\n",
       "      <th></th>\n",
       "      <th>scheme</th>\n",
       "      <th>beneficiary_identifier</th>\n",
       "      <th>name_of_client</th>\n",
       "      <th>gender</th>\n",
       "      <th>dob</th>\n",
       "      <th>is_employed</th>\n",
       "      <th>income</th>\n",
       "      <th>amount</th>\n",
       "      <th>txn_date</th>\n",
       "    </tr>\n",
       "    <tr>\n",
       "      <th>label</th>\n",
       "      <th></th>\n",
       "      <th></th>\n",
       "      <th></th>\n",
       "      <th></th>\n",
       "      <th></th>\n",
       "      <th></th>\n",
       "      <th></th>\n",
       "      <th></th>\n",
       "      <th></th>\n",
       "    </tr>\n",
       "  </thead>\n",
       "  <tbody>\n",
       "    <tr>\n",
       "      <th>COULD BE FRAUD</th>\n",
       "      <td>56</td>\n",
       "      <td>56</td>\n",
       "      <td>56</td>\n",
       "      <td>56</td>\n",
       "      <td>56</td>\n",
       "      <td>56</td>\n",
       "      <td>56</td>\n",
       "      <td>56</td>\n",
       "      <td>56</td>\n",
       "    </tr>\n",
       "    <tr>\n",
       "      <th>FRAUD</th>\n",
       "      <td>109</td>\n",
       "      <td>109</td>\n",
       "      <td>109</td>\n",
       "      <td>109</td>\n",
       "      <td>109</td>\n",
       "      <td>109</td>\n",
       "      <td>109</td>\n",
       "      <td>109</td>\n",
       "      <td>109</td>\n",
       "    </tr>\n",
       "    <tr>\n",
       "      <th>NORMAL</th>\n",
       "      <td>1819</td>\n",
       "      <td>1819</td>\n",
       "      <td>1819</td>\n",
       "      <td>1819</td>\n",
       "      <td>1819</td>\n",
       "      <td>1819</td>\n",
       "      <td>1819</td>\n",
       "      <td>1819</td>\n",
       "      <td>1819</td>\n",
       "    </tr>\n",
       "    <tr>\n",
       "      <th>SUSPECT</th>\n",
       "      <td>57</td>\n",
       "      <td>57</td>\n",
       "      <td>57</td>\n",
       "      <td>57</td>\n",
       "      <td>57</td>\n",
       "      <td>57</td>\n",
       "      <td>57</td>\n",
       "      <td>57</td>\n",
       "      <td>57</td>\n",
       "    </tr>\n",
       "  </tbody>\n",
       "</table>\n",
       "</div>"
      ],
      "text/plain": [
       "                scheme  beneficiary_identifier  name_of_client  gender   dob  \\\n",
       "label                                                                          \n",
       "COULD BE FRAUD      56                      56              56      56    56   \n",
       "FRAUD              109                     109             109     109   109   \n",
       "NORMAL            1819                    1819            1819    1819  1819   \n",
       "SUSPECT             57                      57              57      57    57   \n",
       "\n",
       "                is_employed  income  amount  txn_date  \n",
       "label                                                  \n",
       "COULD BE FRAUD           56      56      56        56  \n",
       "FRAUD                   109     109     109       109  \n",
       "NORMAL                 1819    1819    1819      1819  \n",
       "SUSPECT                  57      57      57        57  "
      ]
     },
     "execution_count": 5,
     "metadata": {},
     "output_type": "execute_result"
    }
   ],
   "source": [
    "df_csv.groupby('label').count()"
   ]
  },
  {
   "cell_type": "markdown",
   "metadata": {},
   "source": [
    "### Datetime conversion and feature creation"
   ]
  },
  {
   "cell_type": "code",
   "execution_count": 6,
   "metadata": {
    "ExecuteTime": {
     "end_time": "2020-12-09T09:28:43.196791Z",
     "start_time": "2020-12-09T09:28:42.674176Z"
    }
   },
   "outputs": [],
   "source": [
    "df_csv.dob = pd.to_datetime(df_csv.dob)\n",
    "df_csv.txn_date = pd.to_datetime(df_csv.txn_date)\n",
    "\n",
    "df_csv['age'] = df_csv[\"dob\"].apply(cust_age_in_years)\n",
    "##df_csv['acc_age'] = df_csv[\"txn_date\"].apply(acc_age_in_days)\n",
    "\n",
    "##df_csv['age_quantile_rank'] = pd.qcut(df_csv['age'], 4, labels = False, duplicates='drop')\n",
    "##df_csv['acc_age_quantile_rank'] = pd.qcut(df_csv['acc_age'], 4, labels = False, duplicates='drop')\n",
    "\n",
    "##df_csv['age_decile_rank'] = pd.qcut(df_csv['age'], 10, labels = False, duplicates='drop')\n",
    "##df_csv['acc_age_decile_rank'] = pd.qcut(df_csv['acc_age'], 10, labels = False, duplicates='drop')"
   ]
  },
  {
   "cell_type": "markdown",
   "metadata": {},
   "source": [
    "### Drop some features"
   ]
  },
  {
   "cell_type": "code",
   "execution_count": 7,
   "metadata": {
    "ExecuteTime": {
     "end_time": "2020-12-09T09:28:43.210860Z",
     "start_time": "2020-12-09T09:28:43.196791Z"
    }
   },
   "outputs": [],
   "source": [
    "df_csv = df_csv.drop('name_of_client', axis = 1)\n",
    "df_csv = df_csv.drop('txn_date', axis = 1)\n",
    "df_csv = df_csv.drop('dob', axis = 1)\n",
    "df_csv = df_csv.drop('scheme', axis = 1)\n",
    "df_csv = df_csv.drop('beneficiary_identifier', axis = 1)"
   ]
  },
  {
   "cell_type": "markdown",
   "metadata": {},
   "source": [
    "### Encode features for classification   \n",
    "Here we are encoding catagoriacal data and dropping the original catagories."
   ]
  },
  {
   "cell_type": "code",
   "execution_count": 8,
   "metadata": {
    "ExecuteTime": {
     "end_time": "2020-12-09T09:28:43.228939Z",
     "start_time": "2020-12-09T09:28:43.214863Z"
    }
   },
   "outputs": [],
   "source": [
    "df_csv = pd.concat([df_csv, pd.get_dummies(df_csv['gender'], prefix='gender')], axis=1)\n",
    "df_csv = df_csv.drop('gender', axis = 1)\n",
    "\n",
    "df_csv = pd.concat([df_csv, pd.get_dummies(df_csv['is_employed'], prefix='is_employed')], axis=1)\n",
    "df_csv = df_csv.drop('is_employed', axis = 1)"
   ]
  },
  {
   "cell_type": "code",
   "execution_count": 9,
   "metadata": {
    "ExecuteTime": {
     "end_time": "2020-12-09T09:28:43.269007Z",
     "start_time": "2020-12-09T09:28:43.230910Z"
    }
   },
   "outputs": [
    {
     "name": "stdout",
     "output_type": "stream",
     "text": [
      "\n",
      "NaN income             0\n",
      "amount             0\n",
      "label              0\n",
      "age                0\n",
      "gender_FEMALE      0\n",
      "gender_MALE        0\n",
      "is_employed_NO     0\n",
      "is_employed_YES    0\n",
      "dtype: int64 \n",
      "\n",
      "\n",
      "\n"
     ]
    }
   ],
   "source": [
    "## Checking null values\n",
    "print('\\nNaN',len(df_csv) - df_csv.count(),'\\n\\n\\n')"
   ]
  },
  {
   "cell_type": "code",
   "execution_count": 10,
   "metadata": {
    "ExecuteTime": {
     "end_time": "2020-12-09T09:28:43.282043Z",
     "start_time": "2020-12-09T09:28:43.271015Z"
    }
   },
   "outputs": [
    {
     "data": {
      "text/html": [
       "<div>\n",
       "<style scoped>\n",
       "    .dataframe tbody tr th:only-of-type {\n",
       "        vertical-align: middle;\n",
       "    }\n",
       "\n",
       "    .dataframe tbody tr th {\n",
       "        vertical-align: top;\n",
       "    }\n",
       "\n",
       "    .dataframe thead th {\n",
       "        text-align: right;\n",
       "    }\n",
       "</style>\n",
       "<table border=\"1\" class=\"dataframe\">\n",
       "  <thead>\n",
       "    <tr style=\"text-align: right;\">\n",
       "      <th></th>\n",
       "      <th>income</th>\n",
       "      <th>amount</th>\n",
       "      <th>label</th>\n",
       "      <th>age</th>\n",
       "      <th>gender_FEMALE</th>\n",
       "      <th>gender_MALE</th>\n",
       "      <th>is_employed_NO</th>\n",
       "      <th>is_employed_YES</th>\n",
       "    </tr>\n",
       "  </thead>\n",
       "  <tbody>\n",
       "    <tr>\n",
       "      <th>0</th>\n",
       "      <td>180000</td>\n",
       "      <td>1000</td>\n",
       "      <td>FRAUD</td>\n",
       "      <td>30</td>\n",
       "      <td>1</td>\n",
       "      <td>0</td>\n",
       "      <td>0</td>\n",
       "      <td>1</td>\n",
       "    </tr>\n",
       "    <tr>\n",
       "      <th>1</th>\n",
       "      <td>180000</td>\n",
       "      <td>500</td>\n",
       "      <td>FRAUD</td>\n",
       "      <td>30</td>\n",
       "      <td>1</td>\n",
       "      <td>0</td>\n",
       "      <td>0</td>\n",
       "      <td>1</td>\n",
       "    </tr>\n",
       "    <tr>\n",
       "      <th>2</th>\n",
       "      <td>275000</td>\n",
       "      <td>6000</td>\n",
       "      <td>NORMAL</td>\n",
       "      <td>41</td>\n",
       "      <td>1</td>\n",
       "      <td>0</td>\n",
       "      <td>0</td>\n",
       "      <td>1</td>\n",
       "    </tr>\n",
       "    <tr>\n",
       "      <th>3</th>\n",
       "      <td>300000</td>\n",
       "      <td>1000</td>\n",
       "      <td>NORMAL</td>\n",
       "      <td>29</td>\n",
       "      <td>0</td>\n",
       "      <td>1</td>\n",
       "      <td>0</td>\n",
       "      <td>1</td>\n",
       "    </tr>\n",
       "    <tr>\n",
       "      <th>4</th>\n",
       "      <td>600000</td>\n",
       "      <td>2000</td>\n",
       "      <td>COULD BE FRAUD</td>\n",
       "      <td>32</td>\n",
       "      <td>1</td>\n",
       "      <td>0</td>\n",
       "      <td>0</td>\n",
       "      <td>1</td>\n",
       "    </tr>\n",
       "  </tbody>\n",
       "</table>\n",
       "</div>"
      ],
      "text/plain": [
       "   income  amount           label  age  gender_FEMALE  gender_MALE  \\\n",
       "0  180000    1000           FRAUD   30              1            0   \n",
       "1  180000     500           FRAUD   30              1            0   \n",
       "2  275000    6000          NORMAL   41              1            0   \n",
       "3  300000    1000          NORMAL   29              0            1   \n",
       "4  600000    2000  COULD BE FRAUD   32              1            0   \n",
       "\n",
       "   is_employed_NO  is_employed_YES  \n",
       "0               0                1  \n",
       "1               0                1  \n",
       "2               0                1  \n",
       "3               0                1  \n",
       "4               0                1  "
      ]
     },
     "execution_count": 10,
     "metadata": {},
     "output_type": "execute_result"
    }
   ],
   "source": [
    "df_csv.head()"
   ]
  },
  {
   "cell_type": "code",
   "execution_count": 11,
   "metadata": {
    "ExecuteTime": {
     "end_time": "2020-12-09T09:28:43.295083Z",
     "start_time": "2020-12-09T09:28:43.284048Z"
    }
   },
   "outputs": [
    {
     "data": {
      "text/plain": [
       "(2041, 8)"
      ]
     },
     "execution_count": 11,
     "metadata": {},
     "output_type": "execute_result"
    }
   ],
   "source": [
    "df_csv.shape"
   ]
  },
  {
   "cell_type": "markdown",
   "metadata": {},
   "source": [
    "### Create training and testing datasets"
   ]
  },
  {
   "cell_type": "code",
   "execution_count": 12,
   "metadata": {
    "ExecuteTime": {
     "end_time": "2020-12-09T09:28:43.310150Z",
     "start_time": "2020-12-09T09:28:43.298086Z"
    }
   },
   "outputs": [],
   "source": [
    "y = df_csv['label'] \n",
    "X = df_csv.drop('label', axis = 1)  \n",
    "X_train, X_test, y_train, y_test = train_test_split(X, y, test_size = 0.3) "
   ]
  },
  {
   "cell_type": "markdown",
   "metadata": {},
   "source": [
    "### Create Randomforest classifier"
   ]
  },
  {
   "cell_type": "code",
   "execution_count": 13,
   "metadata": {
    "ExecuteTime": {
     "end_time": "2020-12-09T09:28:48.367606Z",
     "start_time": "2020-12-09T09:28:43.312122Z"
    }
   },
   "outputs": [],
   "source": [
    "clf = RandomForestClassifier(n_estimators = 3000, random_state = 42) \n",
    "model = clf.fit(X_train,y_train)"
   ]
  },
  {
   "cell_type": "code",
   "execution_count": 14,
   "metadata": {
    "ExecuteTime": {
     "end_time": "2020-12-09T09:28:48.375812Z",
     "start_time": "2020-12-09T09:28:48.367606Z"
    }
   },
   "outputs": [
    {
     "name": "stdout",
     "output_type": "stream",
     "text": [
      "{'bootstrap': True,\n",
      " 'ccp_alpha': 0.0,\n",
      " 'class_weight': None,\n",
      " 'criterion': 'gini',\n",
      " 'max_depth': None,\n",
      " 'max_features': 'auto',\n",
      " 'max_leaf_nodes': None,\n",
      " 'max_samples': None,\n",
      " 'min_impurity_decrease': 0.0,\n",
      " 'min_impurity_split': None,\n",
      " 'min_samples_leaf': 1,\n",
      " 'min_samples_split': 2,\n",
      " 'min_weight_fraction_leaf': 0.0,\n",
      " 'n_estimators': 3000,\n",
      " 'n_jobs': None,\n",
      " 'oob_score': False,\n",
      " 'random_state': 42,\n",
      " 'verbose': 0,\n",
      " 'warm_start': False}\n"
     ]
    }
   ],
   "source": [
    "pprint(clf.get_params())"
   ]
  },
  {
   "cell_type": "code",
   "execution_count": 15,
   "metadata": {
    "ExecuteTime": {
     "end_time": "2020-12-09T09:28:49.289886Z",
     "start_time": "2020-12-09T09:28:48.378819Z"
    }
   },
   "outputs": [],
   "source": [
    "y_pred = model.predict(X_test)\n",
    "y_pred_prob = model.predict_proba(X_test)"
   ]
  },
  {
   "cell_type": "code",
   "execution_count": 16,
   "metadata": {
    "ExecuteTime": {
     "end_time": "2020-12-09T09:28:49.296909Z",
     "start_time": "2020-12-09T09:28:49.289886Z"
    }
   },
   "outputs": [],
   "source": [
    "df_res = pd.DataFrame(data = y_pred_prob, columns = [\"COULD BE FRAUD\", \"FRAUD\", \"NORMAL\", \"SUSPECT\"])\n",
    "df_res['PREDICTED_STATUS'] = y_pred"
   ]
  },
  {
   "cell_type": "markdown",
   "metadata": {},
   "source": [
    "### Various matricies for accuracy"
   ]
  },
  {
   "cell_type": "code",
   "execution_count": 17,
   "metadata": {
    "ExecuteTime": {
     "end_time": "2020-12-09T09:28:49.313955Z",
     "start_time": "2020-12-09T09:28:49.299916Z"
    }
   },
   "outputs": [
    {
     "name": "stdout",
     "output_type": "stream",
     "text": [
      "[[  7   0   7   0]\n",
      " [  0  33   9   0]\n",
      " [  5   4 530   2]\n",
      " [  0   0   6  10]]\n"
     ]
    }
   ],
   "source": [
    "conf_mat = confusion_matrix(y_test, y_pred)\n",
    "print(conf_mat)"
   ]
  },
  {
   "cell_type": "code",
   "execution_count": 18,
   "metadata": {
    "ExecuteTime": {
     "end_time": "2020-12-09T09:28:49.332009Z",
     "start_time": "2020-12-09T09:28:49.315961Z"
    }
   },
   "outputs": [
    {
     "name": "stdout",
     "output_type": "stream",
     "text": [
      "Base accuracy:  0.9461663947797716\n"
     ]
    }
   ],
   "source": [
    "base_accuracy = accuracy_score(y_test, y_pred)\n",
    "print(\"Base accuracy: \", base_accuracy)"
   ]
  },
  {
   "cell_type": "code",
   "execution_count": 19,
   "metadata": {
    "ExecuteTime": {
     "end_time": "2020-12-09T09:28:49.371124Z",
     "start_time": "2020-12-09T09:28:49.336017Z"
    }
   },
   "outputs": [
    {
     "data": {
      "text/html": [
       "<div>\n",
       "<style scoped>\n",
       "    .dataframe tbody tr th:only-of-type {\n",
       "        vertical-align: middle;\n",
       "    }\n",
       "\n",
       "    .dataframe tbody tr th {\n",
       "        vertical-align: top;\n",
       "    }\n",
       "\n",
       "    .dataframe thead th {\n",
       "        text-align: right;\n",
       "    }\n",
       "</style>\n",
       "<table border=\"1\" class=\"dataframe\">\n",
       "  <thead>\n",
       "    <tr style=\"text-align: right;\">\n",
       "      <th></th>\n",
       "      <th>COULD BE FRAUD</th>\n",
       "      <th>FRAUD</th>\n",
       "      <th>NORMAL</th>\n",
       "      <th>SUSPECT</th>\n",
       "      <th>accuracy</th>\n",
       "      <th>macro avg</th>\n",
       "      <th>weighted avg</th>\n",
       "    </tr>\n",
       "  </thead>\n",
       "  <tbody>\n",
       "    <tr>\n",
       "      <th>precision</th>\n",
       "      <td>0.583333</td>\n",
       "      <td>0.891892</td>\n",
       "      <td>0.960145</td>\n",
       "      <td>0.833333</td>\n",
       "      <td>0.946166</td>\n",
       "      <td>0.817176</td>\n",
       "      <td>0.943553</td>\n",
       "    </tr>\n",
       "    <tr>\n",
       "      <th>recall</th>\n",
       "      <td>0.500000</td>\n",
       "      <td>0.785714</td>\n",
       "      <td>0.979667</td>\n",
       "      <td>0.625000</td>\n",
       "      <td>0.946166</td>\n",
       "      <td>0.722595</td>\n",
       "      <td>0.946166</td>\n",
       "    </tr>\n",
       "    <tr>\n",
       "      <th>f1-score</th>\n",
       "      <td>0.538462</td>\n",
       "      <td>0.835443</td>\n",
       "      <td>0.969808</td>\n",
       "      <td>0.714286</td>\n",
       "      <td>0.946166</td>\n",
       "      <td>0.764500</td>\n",
       "      <td>0.944081</td>\n",
       "    </tr>\n",
       "    <tr>\n",
       "      <th>support</th>\n",
       "      <td>14.000000</td>\n",
       "      <td>42.000000</td>\n",
       "      <td>541.000000</td>\n",
       "      <td>16.000000</td>\n",
       "      <td>0.946166</td>\n",
       "      <td>613.000000</td>\n",
       "      <td>613.000000</td>\n",
       "    </tr>\n",
       "  </tbody>\n",
       "</table>\n",
       "</div>"
      ],
      "text/plain": [
       "           COULD BE FRAUD      FRAUD      NORMAL    SUSPECT  accuracy  \\\n",
       "precision        0.583333   0.891892    0.960145   0.833333  0.946166   \n",
       "recall           0.500000   0.785714    0.979667   0.625000  0.946166   \n",
       "f1-score         0.538462   0.835443    0.969808   0.714286  0.946166   \n",
       "support         14.000000  42.000000  541.000000  16.000000  0.946166   \n",
       "\n",
       "            macro avg  weighted avg  \n",
       "precision    0.817176      0.943553  \n",
       "recall       0.722595      0.946166  \n",
       "f1-score     0.764500      0.944081  \n",
       "support    613.000000    613.000000  "
      ]
     },
     "execution_count": 19,
     "metadata": {},
     "output_type": "execute_result"
    }
   ],
   "source": [
    "report_dict = classification_report(y_test, y_pred, output_dict = True)\n",
    "pd.DataFrame(report_dict)"
   ]
  },
  {
   "cell_type": "markdown",
   "metadata": {},
   "source": [
    "### Save model"
   ]
  },
  {
   "cell_type": "code",
   "execution_count": 20,
   "metadata": {
    "ExecuteTime": {
     "end_time": "2020-12-09T09:28:50.723686Z",
     "start_time": "2020-12-09T09:28:49.373122Z"
    }
   },
   "outputs": [],
   "source": [
    "joblib.dump(model, \"model.pkl\");\n",
    "rnd_columns = list(X_train.columns)\n",
    "joblib.dump(rnd_columns, 'rnd_columns.pkl');"
   ]
  }
 ],
 "metadata": {
  "kernelspec": {
   "display_name": "Python 3",
   "language": "python",
   "name": "python3"
  },
  "language_info": {
   "codemirror_mode": {
    "name": "ipython",
    "version": 3
   },
   "file_extension": ".py",
   "mimetype": "text/x-python",
   "name": "python",
   "nbconvert_exporter": "python",
   "pygments_lexer": "ipython3",
   "version": "3.8.3"
  },
  "latex_envs": {
   "LaTeX_envs_menu_present": true,
   "autoclose": false,
   "autocomplete": true,
   "bibliofile": "biblio.bib",
   "cite_by": "apalike",
   "current_citInitial": 1,
   "eqLabelWithNumbers": true,
   "eqNumInitial": 1,
   "hotkeys": {
    "equation": "Ctrl-E",
    "itemize": "Ctrl-I"
   },
   "labels_anchors": false,
   "latex_user_defs": false,
   "report_style_numbering": false,
   "user_envs_cfg": false
  }
 },
 "nbformat": 4,
 "nbformat_minor": 4
}
